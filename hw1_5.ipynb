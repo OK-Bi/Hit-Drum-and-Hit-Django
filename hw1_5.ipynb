{
 "cells": [
  {
   "cell_type": "code",
   "execution_count": null,
   "metadata": {},
   "outputs": [
    {
     "name": "stdout",
     "output_type": "stream",
     "text": [
      "11\n"
     ]
    }
   ],
   "source": [
    "n = int(input())\n",
    "meetings = []\n",
    "for _ in range(n):\n",
    "    meetings.append(list(map(int, input().split())))\n",
    "    \n",
    "# key 정렬을 목적으로 하는 함수를 값으로 넣는다. lambda를 이용할 수 있다. key 값을 기준으로 정렬되고 기본값은 오름차순이다. \n",
    "meetings.sort(key=(lambda x: (x[2], x[1]))) # 종료시간 기준 정렬\n",
    "\n",
    "lecture = [] # 배치되는 강의의 리스트\n",
    "lecture.append(meetings[0][0]) # 종료시간이 가장 빠른 강의부터 시작, 답이 적어도 1개는 존재한다\n",
    "\n",
    "cnt = 1\n",
    "idx = 1\n",
    "endtime = meetings[0][2]\n",
    "\n",
    "while idx < len(meetings):\n",
    "    if meetings[idx][1] >= endtime:\n",
    "        cnt += 1\n",
    "        endtime = meetings[idx][2]\n",
    "        lecture.append(meetings[idx][0])\n",
    "    idx += 1\n",
    "\n",
    "print(cnt)\n",
    "print(lecture)"
   ]
  },
  {
   "cell_type": "code",
   "execution_count": null,
   "metadata": {},
   "outputs": [],
   "source": [
    "n = int(input())\n",
    "meetings = []\n",
    "for _ in range(n):\n",
    "    meetings.append(list(map(int, input().split())))\n",
    "    \n",
    "meetings = sorted(meetings, key=(lambda x: (x[2], x[1]))) \n",
    "\n",
    "lecture = [] \n",
    "lecture.append(meetings[0][0]) \n",
    "\n",
    "cnt = 1\n",
    "idx = 1\n",
    "endtime = meetings[0][2]\n",
    "\n",
    "while idx < len(meetings):\n",
    "    if meetings[idx][1] >= endtime:\n",
    "        cnt += 1\n",
    "        endtime = meetings[idx][2]\n",
    "        lecture.append(meetings[idx][0])\n",
    "    idx += 1\n",
    "\n",
    "print(cnt)\n",
    "print(lecture)"
   ]
  },
  {
   "cell_type": "code",
   "execution_count": null,
   "metadata": {},
   "outputs": [],
   "source": []
  }
 ],
 "metadata": {
  "kernelspec": {
   "display_name": "Python 3",
   "language": "python",
   "name": "python3"
  },
  "language_info": {
   "codemirror_mode": {
    "name": "ipython",
    "version": 3
   },
   "file_extension": ".py",
   "mimetype": "text/x-python",
   "name": "python",
   "nbconvert_exporter": "python",
   "pygments_lexer": "ipython3",
   "version": "3.7.6"
  }
 },
 "nbformat": 4,
 "nbformat_minor": 4
}
