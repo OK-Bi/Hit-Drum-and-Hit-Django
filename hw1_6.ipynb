{
 "cells": [
  {
   "cell_type": "code",
   "execution_count": 8,
   "metadata": {},
   "outputs": [
    {
     "name": "stdout",
     "output_type": "stream",
     "text": [
      "2\n",
      "1000101\n",
      "10101\n",
      "DANGER\n",
      "PASS\n"
     ]
    }
   ],
   "source": [
    "import re # 정규 표현식\n",
    "\n",
    "ans = []\n",
    "n = int(input())\n",
    "for i in range(n):\n",
    "    pattern = re.compile('(100+1+|01)+') #re.compile의 결과로 돌려주는 객체 p(컴파일된 패턴 객체)를 사용하여 그 이후의 작업을 수행할 것이다.\n",
    "    testcase = input()\n",
    "    mtch = pattern.fullmatch(testcase) #정규식과 매치될 때는 match 객체를 돌려주고, 매치되지 않을 때는 None을 돌려준다. \n",
    "    \n",
    "    if mtch == None:\n",
    "        ans.append(0)\n",
    "    else:\n",
    "        ans.append(1)\n",
    "\n",
    "for i in range(n):\n",
    "    if ans[i] == 0:\n",
    "        print(\"PASS\")\n",
    "    else:\n",
    "        print(\"DANGER\")\n",
    "        \n",
    "        \n",
    "#https://wikidocs.net/4308"
   ]
  },
  {
   "cell_type": "code",
   "execution_count": null,
   "metadata": {},
   "outputs": [],
   "source": []
  },
  {
   "cell_type": "code",
   "execution_count": null,
   "metadata": {},
   "outputs": [],
   "source": []
  }
 ],
 "metadata": {
  "kernelspec": {
   "display_name": "Python 3",
   "language": "python",
   "name": "python3"
  },
  "language_info": {
   "codemirror_mode": {
    "name": "ipython",
    "version": 3
   },
   "file_extension": ".py",
   "mimetype": "text/x-python",
   "name": "python",
   "nbconvert_exporter": "python",
   "pygments_lexer": "ipython3",
   "version": "3.7.6"
  }
 },
 "nbformat": 4,
 "nbformat_minor": 4
}
