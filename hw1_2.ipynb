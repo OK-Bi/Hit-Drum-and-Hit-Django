{
 "cells": [
  {
   "cell_type": "code",
   "execution_count": 28,
   "metadata": {},
   "outputs": [
    {
     "name": "stdout",
     "output_type": "stream",
     "text": [
      "26 5 37 1 61 11 59 15 48 19\n",
      "[1, 5, 11, 15, 19, 26, 37, 48, 59, 61]\n"
     ]
    }
   ],
   "source": [
    "def partition(arr, p, r): \n",
    "    x = arr[p]\n",
    "    i = p + 1 \n",
    "    j = r\n",
    "    while 1:\n",
    "        while arr[i] < x:\n",
    "            i += 1\n",
    "        while arr[j] > x:\n",
    "            j -= 1\n",
    "        if i < j:\n",
    "            arr[i], arr[j] = arr[j], arr[i]\n",
    "            i += 1\n",
    "            j -= 1\n",
    "        else:\n",
    "            break\n",
    "        \n",
    "    arr[p], arr[j] = arr[j], arr[p]\n",
    "    return j\n",
    "\n",
    "def quick_sort(arr, l, r): \n",
    "    if l < r: \n",
    "        p = partition(arr, l, r) \n",
    "        quick_sort(arr, l, p - 1) \n",
    "        quick_sort(arr, p + 1, r)\n",
    "\n",
    "\n",
    "arr = list(map(int, input().split()))\n",
    "quick_sort(arr, 0, len(arr) - 1)\n",
    "print(arr)"
   ]
  },
  {
   "cell_type": "code",
   "execution_count": null,
   "metadata": {},
   "outputs": [],
   "source": []
  }
 ],
 "metadata": {
  "kernelspec": {
   "display_name": "Python 3",
   "language": "python",
   "name": "python3"
  },
  "language_info": {
   "codemirror_mode": {
    "name": "ipython",
    "version": 3
   },
   "file_extension": ".py",
   "mimetype": "text/x-python",
   "name": "python",
   "nbconvert_exporter": "python",
   "pygments_lexer": "ipython3",
   "version": "3.7.6"
  }
 },
 "nbformat": 4,
 "nbformat_minor": 4
}
