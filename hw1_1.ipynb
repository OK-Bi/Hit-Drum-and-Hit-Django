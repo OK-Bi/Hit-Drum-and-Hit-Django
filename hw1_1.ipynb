{
 "cells": [
  {
   "cell_type": "code",
   "execution_count": 3,
   "metadata": {},
   "outputs": [
    {
     "name": "stdout",
     "output_type": "stream",
     "text": [
      "1 11 15 19 32 48 59 65\n",
      "4\n",
      "None\n"
     ]
    }
   ],
   "source": [
    "def binary_search(arr, t, l, r):\n",
    "    if l > r:\n",
    "        print('None')\n",
    "        return 0\n",
    "    else:\n",
    "        m_idx = (l + r) // 2\n",
    "        if arr[m_idx] > t:\n",
    "            binary_search(arr, t, l, m_idx-1)\n",
    "        elif arr[m_idx] < t:\n",
    "            binary_search(arr, t, m_idx+1, r)\n",
    "        else:\n",
    "            print(m_idx + 1)\n",
    "            \n",
    "num_list = list(map(int, input().split()))\n",
    "t = int(input())\n",
    "\n",
    "left = 0 \n",
    "right = len(num_list) - 1\n",
    "\n",
    "binary_search(num_list, t, left, right)"
   ]
  },
  {
   "cell_type": "code",
   "execution_count": null,
   "metadata": {},
   "outputs": [],
   "source": []
  },
  {
   "cell_type": "code",
   "execution_count": null,
   "metadata": {},
   "outputs": [],
   "source": []
  }
 ],
 "metadata": {
  "kernelspec": {
   "display_name": "Python 3",
   "language": "python",
   "name": "python3"
  },
  "language_info": {
   "codemirror_mode": {
    "name": "ipython",
    "version": 3
   },
   "file_extension": ".py",
   "mimetype": "text/x-python",
   "name": "python",
   "nbconvert_exporter": "python",
   "pygments_lexer": "ipython3",
   "version": "3.7.6"
  }
 },
 "nbformat": 4,
 "nbformat_minor": 4
}
