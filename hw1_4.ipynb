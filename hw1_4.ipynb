{
 "cells": [
  {
   "cell_type": "code",
   "execution_count": 9,
   "metadata": {},
   "outputs": [
    {
     "name": "stdout",
     "output_type": "stream",
     "text": [
      "Preorder Traverse\n",
      "15\n",
      "1\n",
      "61\n",
      "26\n",
      "37\n",
      "59\n",
      "48\n",
      "Inorder Traverse\n",
      "61\n",
      "1\n",
      "26\n",
      "15\n",
      "59\n",
      "37\n",
      "48\n",
      "Postorder Traverse\n",
      "61\n",
      "26\n",
      "1\n",
      "59\n",
      "48\n",
      "37\n",
      "15\n"
     ]
    }
   ],
   "source": [
    "class Node:\n",
    "    def __init__(self, data, left_node, right_node):\n",
    "        self.data = data\n",
    "        self.left_node = left_node\n",
    "        self.right_node = right_node\n",
    "#VLR\n",
    "def preorder(node): \n",
    "    print(node.data, end='\\n')\n",
    "    if node.left_node != -1:\n",
    "        preorder(tree[node.left_node])\n",
    "    if node.right_node != -1:\n",
    "        preorder(tree[node.right_node])\n",
    "#LVR\n",
    "def inorder(node): \n",
    "    if node.left_node != -1:\n",
    "        inorder(tree[node.left_node])\n",
    "    print(node.data, end='\\n')\n",
    "    if node.right_node != -1:\n",
    "        inorder(tree[node.right_node])\n",
    "#LRV\n",
    "def postorder(node):\n",
    "    if node.left_node != -1:\n",
    "        postorder(tree[node.left_node])\n",
    "    if node.right_node != -1:\n",
    "        postorder(tree[node.right_node])\n",
    "    print(node.data, end='\\n')\n",
    "\n",
    "\n",
    "#tree[data] = Node(data, left_node, right_node)\n",
    "tree = {}\n",
    "tree[15] = Node(15, 1, 37)\n",
    "tree[1] = Node(1, 61, 26)\n",
    "tree[37] = Node(37, 59, 48)\n",
    "tree[61] = Node(61, -1, -1) # leaf node\n",
    "tree[26] = Node(26, -1, -1)\n",
    "tree[59] = Node(59, -1, -1)\n",
    "tree[48] = Node(48, -1, -1)\n",
    "\n",
    "print('Preorder Traverse')\n",
    "preorder(tree[15])\n",
    "print('Inorder Traverse')\n",
    "inorder(tree[15])\n",
    "print('Postorder Traverse')\n",
    "postorder(tree[15])"
   ]
  },
  {
   "cell_type": "code",
   "execution_count": null,
   "metadata": {},
   "outputs": [],
   "source": []
  }
 ],
 "metadata": {
  "kernelspec": {
   "display_name": "Python 3",
   "language": "python",
   "name": "python3"
  },
  "language_info": {
   "codemirror_mode": {
    "name": "ipython",
    "version": 3
   },
   "file_extension": ".py",
   "mimetype": "text/x-python",
   "name": "python",
   "nbconvert_exporter": "python",
   "pygments_lexer": "ipython3",
   "version": "3.7.6"
  }
 },
 "nbformat": 4,
 "nbformat_minor": 4
}
